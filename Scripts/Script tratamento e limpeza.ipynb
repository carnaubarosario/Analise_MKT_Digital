{
 "cells": [
  {
   "cell_type": "code",
   "execution_count": 4,
   "id": "43526bea",
   "metadata": {},
   "outputs": [
    {
     "name": "stdout",
     "output_type": "stream",
     "text": [
      "✅ Tabelas tratadas e exportadas no mesmo arquivo Excel com sucesso no padrão brasileiro!\n"
     ]
    }
   ],
   "source": [
    "import pandas as pd\n",
    "\n",
    "# Caminho do arquivo Excel original\n",
    "arquivo_excel = r\"c:\\Users\\umble\\Downloads\\DATA LAKE.xlsx\"\n",
    "\n",
    "# === 1. Carregando os dados ===\n",
    "df_campaigns = pd.read_excel(arquivo_excel, sheet_name=\"Meta_Ads_Campaigns.csv\")\n",
    "df_leads = pd.read_excel(arquivo_excel, sheet_name=\"Pipedrive_Leads\")\n",
    "df_deals = pd.read_excel(arquivo_excel, sheet_name=\"Pipedrive_Deals\")\n",
    "\n",
    "# === 2. Renomeando colunas ===\n",
    "\n",
    "# Campanhas\n",
    "df_campaigns = df_campaigns.rename(columns={\n",
    "    \"Campaign_ID\": \"ID_Campanha\",\n",
    "    \"Campaign_Name\": \"Nome_Campanha\",\n",
    "    \"Ad_Name\": \"Nome_Ad\",\n",
    "    \"Date\": \"Data\",\n",
    "    \"Impressions\": \"Impressões\",\n",
    "    \"Clicks\": \"Cliques\",\n",
    "    \"Conversions\": \"Conversões\",\n",
    "    \"Spend\": \"Custo\"\n",
    "})\n",
    "\n",
    "# Leads\n",
    "df_leads = df_leads.rename(columns={\n",
    "    \"ID\": \"ID_Lead\",\n",
    "    \"Lead_Name\": \"Nome_Lead\",\n",
    "    \"Lead_Created_Date\": \"Data_Criacao_Lead\",\n",
    "    \"Campaign_ID\": \"ID_Campanha\"\n",
    "})\n",
    "\n",
    "# Negócios\n",
    "df_deals = df_deals.rename(columns={\n",
    "    \"ID\": \"ID_Negocio\",\n",
    "    \"Deal_Name\": \"Nome_Negocio\",\n",
    "    \"Deal_Created_Date\": \"Data_Criacao_Negocio\",\n",
    "    \"Stage\": \"Estágio\",\n",
    "    \"Deal_Value\": \"Valor_Negocio\",\n",
    "    \"Close_Date\": \"Data_Fechamento\",\n",
    "    \"Status\": \"Status\",\n",
    "    \"Lead_ID\": \"ID_Lead\"\n",
    "})\n",
    "\n",
    "# === 3. Tratamentos adicionais ===\n",
    "\n",
    "# Padronizar \"Estágio\" para \"Fechado\"\n",
    "df_deals[\"Estágio\"] = df_deals[\"Estágio\"].str.extract(r'(Fechado)', expand=False).fillna(df_deals[\"Estágio\"])\n",
    "\n",
    "# Preencher Data_Fechamento vazia com 01/01/1900\n",
    "df_deals[\"Data_Fechamento\"] = df_deals[\"Data_Fechamento\"].fillna(pd.to_datetime(\"1900-01-01\"))\n",
    "\n",
    "# === 4. Formatar datas no padrão brasileiro (dd/mm/aaaa) ===\n",
    "df_campaigns[\"Data\"] = pd.to_datetime(df_campaigns[\"Data\"]).dt.strftime('%d/%m/%Y')\n",
    "df_leads[\"Data_Criacao_Lead\"] = pd.to_datetime(df_leads[\"Data_Criacao_Lead\"]).dt.strftime('%d/%m/%Y')\n",
    "df_deals[\"Data_Criacao_Negocio\"] = pd.to_datetime(df_deals[\"Data_Criacao_Negocio\"]).dt.strftime('%d/%m/%Y')\n",
    "df_deals[\"Data_Fechamento\"] = pd.to_datetime(df_deals[\"Data_Fechamento\"]).dt.strftime('%d/%m/%Y')\n",
    "\n",
    "# === 5. Exportar todas as tabelas no mesmo arquivo Excel ===\n",
    "with pd.ExcelWriter(r\"c:\\Users\\umble\\Downloads\\Base Marketing Tratada.xlsx\", engine=\"openpyxl\") as writer:\n",
    "    df_campaigns.to_excel(writer, sheet_name=\"Campanhas\", index=False)\n",
    "    df_leads.to_excel(writer, sheet_name=\"Leads\", index=False)\n",
    "    df_deals.to_excel(writer, sheet_name=\"Negocios\", index=False)\n",
    "\n",
    "print(\"✅ Tabelas tratadas e exportadas no mesmo arquivo Excel com sucesso no padrão brasileiro!\")\n"
   ]
  }
 ],
 "metadata": {
  "kernelspec": {
   "display_name": "base",
   "language": "python",
   "name": "python3"
  },
  "language_info": {
   "codemirror_mode": {
    "name": "ipython",
    "version": 3
   },
   "file_extension": ".py",
   "mimetype": "text/x-python",
   "name": "python",
   "nbconvert_exporter": "python",
   "pygments_lexer": "ipython3",
   "version": "3.12.3"
  }
 },
 "nbformat": 4,
 "nbformat_minor": 5
}
